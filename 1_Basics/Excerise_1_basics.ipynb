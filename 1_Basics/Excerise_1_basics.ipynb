{
  "nbformat": 4,
  "nbformat_minor": 0,
  "metadata": {
    "colab": {
      "provenance": []
    },
    "kernelspec": {
      "name": "python3",
      "display_name": "Python 3"
    },
    "language_info": {
      "name": "python"
    }
  },
  "cells": [
    {
      "cell_type": "markdown",
      "source": [
        "#Excerise\n",
        "\n",
        "Filter what jobs to apply based on a list of skills."
      ],
      "metadata": {
        "id": "YkLPkxpT7erO"
      }
    },
    {
      "cell_type": "code",
      "execution_count": null,
      "metadata": {
        "id": "RcLh2pA97Wiu"
      },
      "outputs": [],
      "source": [
        "my_skills = ['Python', 'SQL', 'Excel']"
      ]
    },
    {
      "cell_type": "code",
      "source": [
        "# Define data science job roles and required skills\n",
        "job_roles = [\n",
        "    {'role': 'Data Analyst', 'skills': ['Python', 'SQL', 'Excel']},\n",
        "    {'role': 'Data Scientist', 'skills': ['Python', 'R', 'Machine Learning', 'Deep Learning']},\n",
        "    {'role': 'Machine Learning Engineer', 'skills': ['Python', 'TensorFlow', 'PyTorch', 'Scikit-Learn']},\n",
        "    {'role': 'Data Engineer', 'skills': ['Python', 'Apache Spark', 'Hadoop', 'SQL']},\n",
        "    {'role': 'Business Intelligence Analyst', 'skills': ['Python', 'SQL', 'Tableau', 'Power BI', 'Excel']},\n",
        "    {'role': 'Quantitative Analyst', 'skills': ['R', 'Python', 'MATLAB', 'Statistics']},\n",
        "    {'role': 'Operations Analyst', 'skills': ['Python', 'SQL', 'Data Visualization', 'Process Improvement']},\n",
        "    {'role': 'Database Administrator', 'skills': ['SQL', 'Oracle', 'MySQL', 'Database Management']},\n",
        "    {'role': 'AI Engineer', 'skills': ['Python', 'TensorFlow', 'PyTorch', 'Computer Vision']},\n",
        "    {'role': 'Statistician', 'skills': ['R', 'SAS', 'Python', 'Statistical Modeling']}\n",
        "]"
      ],
      "metadata": {
        "id": "g7odRkuV72ge"
      },
      "execution_count": null,
      "outputs": []
    },
    {
      "cell_type": "code",
      "source": [
        "for job in job_roles:\n",
        "  print(job['role'])"
      ],
      "metadata": {
        "colab": {
          "base_uri": "https://localhost:8080/"
        },
        "id": "KIA_Qdmz8bs6",
        "outputId": "90eabb24-8d07-46c5-df32-2704c16bf000"
      },
      "execution_count": null,
      "outputs": [
        {
          "output_type": "stream",
          "name": "stdout",
          "text": [
            "Data Analyst\n",
            "Data Scientist\n",
            "Machine Learning Engineer\n",
            "Data Engineer\n",
            "Business Intelligence Analyst\n",
            "Quantitative Analyst\n",
            "Operations Analyst\n",
            "Database Administrator\n",
            "AI Engineer\n",
            "Statistician\n"
          ]
        }
      ]
    },
    {
      "cell_type": "code",
      "source": [
        "for job in job_roles:\n",
        "  print(job['skills'])"
      ],
      "metadata": {
        "colab": {
          "base_uri": "https://localhost:8080/"
        },
        "id": "ofdkyhYE8njM",
        "outputId": "3e61b49d-d8e2-40c3-e07a-4d8d1d4a0820"
      },
      "execution_count": null,
      "outputs": [
        {
          "output_type": "stream",
          "name": "stdout",
          "text": [
            "['Python', 'SQL', 'Excel']\n",
            "['Python', 'R', 'Machine Learning', 'Deep Learning']\n",
            "['Python', 'TensorFlow', 'PyTorch', 'Scikit-Learn']\n",
            "['Python', 'Apache Spark', 'Hadoop', 'SQL']\n",
            "['Python', 'SQL', 'Tableau', 'Power BI', 'Excel']\n",
            "['R', 'Python', 'MATLAB', 'Statistics']\n",
            "['Python', 'SQL', 'Data Visualization', 'Process Improvement']\n",
            "['SQL', 'Oracle', 'MySQL', 'Database Management']\n",
            "['Python', 'TensorFlow', 'PyTorch', 'Computer Vision']\n",
            "['R', 'SAS', 'Python', 'Statistical Modeling']\n"
          ]
        }
      ]
    },
    {
      "cell_type": "code",
      "source": [
        "for job in job_roles:\n",
        "  for skill in my_skills:\n",
        "    print('skills')\n",
        "    print(job['skills'])"
      ],
      "metadata": {
        "colab": {
          "base_uri": "https://localhost:8080/"
        },
        "id": "WUTRqBhw8r4l",
        "outputId": "3b0297c1-b131-4b5e-c4c3-abfc938a6ae5"
      },
      "execution_count": null,
      "outputs": [
        {
          "output_type": "stream",
          "name": "stdout",
          "text": [
            "skills\n",
            "['Python', 'SQL', 'Excel']\n",
            "skills\n",
            "['Python', 'SQL', 'Excel']\n",
            "skills\n",
            "['Python', 'SQL', 'Excel']\n",
            "skills\n",
            "['Python', 'R', 'Machine Learning', 'Deep Learning']\n",
            "skills\n",
            "['Python', 'R', 'Machine Learning', 'Deep Learning']\n",
            "skills\n",
            "['Python', 'R', 'Machine Learning', 'Deep Learning']\n",
            "skills\n",
            "['Python', 'TensorFlow', 'PyTorch', 'Scikit-Learn']\n",
            "skills\n",
            "['Python', 'TensorFlow', 'PyTorch', 'Scikit-Learn']\n",
            "skills\n",
            "['Python', 'TensorFlow', 'PyTorch', 'Scikit-Learn']\n",
            "skills\n",
            "['Python', 'Apache Spark', 'Hadoop', 'SQL']\n",
            "skills\n",
            "['Python', 'Apache Spark', 'Hadoop', 'SQL']\n",
            "skills\n",
            "['Python', 'Apache Spark', 'Hadoop', 'SQL']\n",
            "skills\n",
            "['Python', 'SQL', 'Tableau', 'Power BI', 'Excel']\n",
            "skills\n",
            "['Python', 'SQL', 'Tableau', 'Power BI', 'Excel']\n",
            "skills\n",
            "['Python', 'SQL', 'Tableau', 'Power BI', 'Excel']\n",
            "skills\n",
            "['R', 'Python', 'MATLAB', 'Statistics']\n",
            "skills\n",
            "['R', 'Python', 'MATLAB', 'Statistics']\n",
            "skills\n",
            "['R', 'Python', 'MATLAB', 'Statistics']\n",
            "skills\n",
            "['Python', 'SQL', 'Data Visualization', 'Process Improvement']\n",
            "skills\n",
            "['Python', 'SQL', 'Data Visualization', 'Process Improvement']\n",
            "skills\n",
            "['Python', 'SQL', 'Data Visualization', 'Process Improvement']\n",
            "skills\n",
            "['SQL', 'Oracle', 'MySQL', 'Database Management']\n",
            "skills\n",
            "['SQL', 'Oracle', 'MySQL', 'Database Management']\n",
            "skills\n",
            "['SQL', 'Oracle', 'MySQL', 'Database Management']\n",
            "skills\n",
            "['Python', 'TensorFlow', 'PyTorch', 'Computer Vision']\n",
            "skills\n",
            "['Python', 'TensorFlow', 'PyTorch', 'Computer Vision']\n",
            "skills\n",
            "['Python', 'TensorFlow', 'PyTorch', 'Computer Vision']\n",
            "skills\n",
            "['R', 'SAS', 'Python', 'Statistical Modeling']\n",
            "skills\n",
            "['R', 'SAS', 'Python', 'Statistical Modeling']\n",
            "skills\n",
            "['R', 'SAS', 'Python', 'Statistical Modeling']\n"
          ]
        }
      ]
    },
    {
      "cell_type": "code",
      "source": [
        "for job in job_roles:\n",
        "  for skill in my_skills:\n",
        "    if skill in job['skills']:\n",
        "      print(skill)\n",
        "      print(job['skills'])"
      ],
      "metadata": {
        "colab": {
          "base_uri": "https://localhost:8080/"
        },
        "id": "1vKFw9dR9FtE",
        "outputId": "8d415356-4659-49de-edc1-57005f440187"
      },
      "execution_count": null,
      "outputs": [
        {
          "output_type": "stream",
          "name": "stdout",
          "text": [
            "Python\n",
            "['Python', 'SQL', 'Excel']\n",
            "SQL\n",
            "['Python', 'SQL', 'Excel']\n",
            "Excel\n",
            "['Python', 'SQL', 'Excel']\n",
            "Python\n",
            "['Python', 'R', 'Machine Learning', 'Deep Learning']\n",
            "Python\n",
            "['Python', 'TensorFlow', 'PyTorch', 'Scikit-Learn']\n",
            "Python\n",
            "['Python', 'Apache Spark', 'Hadoop', 'SQL']\n",
            "SQL\n",
            "['Python', 'Apache Spark', 'Hadoop', 'SQL']\n",
            "Python\n",
            "['Python', 'SQL', 'Tableau', 'Power BI', 'Excel']\n",
            "SQL\n",
            "['Python', 'SQL', 'Tableau', 'Power BI', 'Excel']\n",
            "Excel\n",
            "['Python', 'SQL', 'Tableau', 'Power BI', 'Excel']\n",
            "Python\n",
            "['R', 'Python', 'MATLAB', 'Statistics']\n",
            "Python\n",
            "['Python', 'SQL', 'Data Visualization', 'Process Improvement']\n",
            "SQL\n",
            "['Python', 'SQL', 'Data Visualization', 'Process Improvement']\n",
            "SQL\n",
            "['SQL', 'Oracle', 'MySQL', 'Database Management']\n",
            "Python\n",
            "['Python', 'TensorFlow', 'PyTorch', 'Computer Vision']\n",
            "Python\n",
            "['R', 'SAS', 'Python', 'Statistical Modeling']\n"
          ]
        }
      ]
    },
    {
      "cell_type": "code",
      "source": [
        "for job in job_roles:\n",
        "  qualified = True\n",
        "\n",
        "  for skill in my_skills:\n",
        "    if skill not in job['skills']:\n",
        "      qualified = False\n",
        "      print(qualified)\n",
        "      print(skill)\n",
        "      print(job['skills'])"
      ],
      "metadata": {
        "colab": {
          "base_uri": "https://localhost:8080/"
        },
        "id": "toDsVCnS9p8a",
        "outputId": "0f91a4d3-b419-4944-968e-86452726734d"
      },
      "execution_count": null,
      "outputs": [
        {
          "output_type": "stream",
          "name": "stdout",
          "text": [
            "False\n",
            "SQL\n",
            "['Python', 'R', 'Machine Learning', 'Deep Learning']\n",
            "False\n",
            "Excel\n",
            "['Python', 'R', 'Machine Learning', 'Deep Learning']\n",
            "False\n",
            "SQL\n",
            "['Python', 'TensorFlow', 'PyTorch', 'Scikit-Learn']\n",
            "False\n",
            "Excel\n",
            "['Python', 'TensorFlow', 'PyTorch', 'Scikit-Learn']\n",
            "False\n",
            "Excel\n",
            "['Python', 'Apache Spark', 'Hadoop', 'SQL']\n",
            "False\n",
            "SQL\n",
            "['R', 'Python', 'MATLAB', 'Statistics']\n",
            "False\n",
            "Excel\n",
            "['R', 'Python', 'MATLAB', 'Statistics']\n",
            "False\n",
            "Excel\n",
            "['Python', 'SQL', 'Data Visualization', 'Process Improvement']\n",
            "False\n",
            "Python\n",
            "['SQL', 'Oracle', 'MySQL', 'Database Management']\n",
            "False\n",
            "Excel\n",
            "['SQL', 'Oracle', 'MySQL', 'Database Management']\n",
            "False\n",
            "SQL\n",
            "['Python', 'TensorFlow', 'PyTorch', 'Computer Vision']\n",
            "False\n",
            "Excel\n",
            "['Python', 'TensorFlow', 'PyTorch', 'Computer Vision']\n",
            "False\n",
            "SQL\n",
            "['R', 'SAS', 'Python', 'Statistical Modeling']\n",
            "False\n",
            "Excel\n",
            "['R', 'SAS', 'Python', 'Statistical Modeling']\n"
          ]
        }
      ]
    },
    {
      "cell_type": "code",
      "source": [
        "for job in job_roles:\n",
        "  qualified = True\n",
        "\n",
        "\n",
        "  for skill in my_skills:\n",
        "    if skill in job['skills']:\n",
        "      qualified = False\n",
        "      print(qualified)\n",
        "      print(skill)\n",
        "      print(job['skills'])\n",
        "      break"
      ],
      "metadata": {
        "colab": {
          "base_uri": "https://localhost:8080/"
        },
        "id": "SFzEaY45-krd",
        "outputId": "d6595e70-9acf-4cc6-f206-453b7eeec322"
      },
      "execution_count": null,
      "outputs": [
        {
          "output_type": "stream",
          "name": "stdout",
          "text": [
            "False\n",
            "Python\n",
            "['Python', 'SQL', 'Excel']\n",
            "False\n",
            "Python\n",
            "['Python', 'R', 'Machine Learning', 'Deep Learning']\n",
            "False\n",
            "Python\n",
            "['Python', 'TensorFlow', 'PyTorch', 'Scikit-Learn']\n",
            "False\n",
            "Python\n",
            "['Python', 'Apache Spark', 'Hadoop', 'SQL']\n",
            "False\n",
            "Python\n",
            "['Python', 'SQL', 'Tableau', 'Power BI', 'Excel']\n",
            "False\n",
            "Python\n",
            "['R', 'Python', 'MATLAB', 'Statistics']\n",
            "False\n",
            "Python\n",
            "['Python', 'SQL', 'Data Visualization', 'Process Improvement']\n",
            "False\n",
            "SQL\n",
            "['SQL', 'Oracle', 'MySQL', 'Database Management']\n",
            "False\n",
            "Python\n",
            "['Python', 'TensorFlow', 'PyTorch', 'Computer Vision']\n",
            "False\n",
            "Python\n",
            "['R', 'SAS', 'Python', 'Statistical Modeling']\n"
          ]
        }
      ]
    },
    {
      "cell_type": "code",
      "source": [
        "for job in job_roles:\n",
        "  qualified = True\n",
        "\n",
        "\n",
        "  for skill in my_skills:\n",
        "    if skill not in job['skills']:\n",
        "      qualified = False\n",
        "      break\n",
        "  if qualified:\n",
        "    print(job)"
      ],
      "metadata": {
        "colab": {
          "base_uri": "https://localhost:8080/"
        },
        "id": "4_6Rycdh-yd3",
        "outputId": "6f8fd298-fad5-47d9-df50-58f65007d401"
      },
      "execution_count": null,
      "outputs": [
        {
          "output_type": "stream",
          "name": "stdout",
          "text": [
            "{'role': 'Data Analyst', 'skills': ['Python', 'SQL', 'Excel']}\n",
            "{'role': 'Business Intelligence Analyst', 'skills': ['Python', 'SQL', 'Tableau', 'Power BI', 'Excel']}\n"
          ]
        }
      ]
    },
    {
      "cell_type": "code",
      "source": [
        "# Determine which jobs you're qualified for\n",
        "qualified_roles = []\n",
        "\n",
        "for job in job_roles:\n",
        "  # Check if all required skills are in my_skills\n",
        "  if all(skill in job['skills'] for skill in my_skills):\n",
        "    # Add the job role to the qualified_roles list\n",
        "    qualified_roles.append(job['role'])\n",
        "\n",
        "# Print the qualified job roles\n",
        "print(qualified_roles)"
      ],
      "metadata": {
        "colab": {
          "base_uri": "https://localhost:8080/"
        },
        "id": "AlVX6a7n8J3S",
        "outputId": "1a6e131a-ae3c-49ca-c5dc-21964e6b26a0"
      },
      "execution_count": null,
      "outputs": [
        {
          "output_type": "stream",
          "name": "stdout",
          "text": [
            "['Data Analyst', 'Business Intelligence Analyst']\n"
          ]
        }
      ]
    },
    {
      "cell_type": "markdown",
      "source": [
        "Using list comprehension"
      ],
      "metadata": {
        "id": "DPbfGPpwAaev"
      }
    },
    {
      "cell_type": "code",
      "source": [
        "qualified_roles = [job['role'] for job in job_roles if all(skill in job['skills'] for skill in my_skills)]\n",
        "\n",
        "qualified_roles"
      ],
      "metadata": {
        "colab": {
          "base_uri": "https://localhost:8080/"
        },
        "id": "rJr5uCJC_nux",
        "outputId": "4373b5b1-e764-4d81-f038-4522fc2d1591"
      },
      "execution_count": null,
      "outputs": [
        {
          "output_type": "execute_result",
          "data": {
            "text/plain": [
              "['Data Analyst', 'Business Intelligence Analyst']"
            ]
          },
          "metadata": {},
          "execution_count": 24
        }
      ]
    }
  ]
}